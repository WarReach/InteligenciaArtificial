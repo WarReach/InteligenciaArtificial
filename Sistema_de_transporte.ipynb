{
  "nbformat": 4,
  "nbformat_minor": 0,
  "metadata": {
    "colab": {
      "provenance": [],
      "authorship_tag": "ABX9TyPrOYqsYWh/6HUDgqXE2ia0",
      "include_colab_link": true
    },
    "kernelspec": {
      "name": "python3",
      "display_name": "Python 3"
    },
    "language_info": {
      "name": "python"
    }
  },
  "cells": [
    {
      "cell_type": "markdown",
      "metadata": {
        "id": "view-in-github",
        "colab_type": "text"
      },
      "source": [
        "<a href=\"https://colab.research.google.com/github/WarReach/InteligenciaArtificial/blob/main/Sistema_de_transporte.ipynb\" target=\"_parent\"><img src=\"https://colab.research.google.com/assets/colab-badge.svg\" alt=\"Open In Colab\"/></a>"
      ]
    },
    {
      "cell_type": "code",
      "execution_count": 2,
      "metadata": {
        "colab": {
          "base_uri": "https://localhost:8080/"
        },
        "id": "Nl7Adlu0XNMw",
        "outputId": "dab502f7-89e5-4cb5-8be1-375f7463407b"
      },
      "outputs": [
        {
          "output_type": "stream",
          "name": "stdout",
          "text": [
            "Bienvenido al sistema de rutas del transporte masivo en Bogotá.\n",
            "Ingrese la estación de inicio: Portal Norte\n",
            "Ingrese la estación de destino: Portal 80\n",
            "La mejor ruta de Portal Norte a Portal 80 es:\n",
            "Portal Norte -> Cardio Infantil -> Mazuren -> Suba -> Portal 80\n"
          ]
        }
      ],
      "source": [
        "# Representación de un grafo para el sistema de transporte masivo en Bogotá\n",
        "class SistemaTransporte:\n",
        "    def __init__(self):\n",
        "        # Grafo: cada nodo es una estación y los valores son las conexiones (vecinos directos)\n",
        "        self.grafo = {\n",
        "            'Portal Norte': ['Cardio Infantil', 'Alcala'],\n",
        "            'Cardio Infantil': ['Portal Norte', 'Mazuren'],\n",
        "            'Mazuren': ['Cardio Infantil', 'Suba'],\n",
        "            'Suba': ['Mazuren', 'Portal 80'],\n",
        "            'Portal 80': ['Suba', 'Quirigua'],\n",
        "            'Quirigua': ['Portal 80']\n",
        "        }\n",
        "\n",
        "    def buscar_ruta(self, inicio, destino):\n",
        "        \"\"\"Busca la mejor ruta entre dos estaciones usando BFS.\"\"\"\n",
        "        visitados = set()  # Rastrear estaciones visitadas\n",
        "        cola = [[inicio]]  # Cola de rutas posibles\n",
        "\n",
        "        # Búsqueda\n",
        "        while cola:\n",
        "            ruta = cola.pop(0)\n",
        "            estacion = ruta[-1]\n",
        "\n",
        "            # Si llegamos al destino, retornamos la ruta encontrada\n",
        "            if estacion == destino:\n",
        "                return ruta\n",
        "\n",
        "            # Si no hemos visitado la estación, expandimos las rutas posibles\n",
        "            if estacion not in visitados:\n",
        "                visitados.add(estacion)\n",
        "\n",
        "                # Agregar conexiones a la cola\n",
        "                for vecino in self.grafo.get(estacion, []):\n",
        "                    nueva_ruta = list(ruta)\n",
        "                    nueva_ruta.append(vecino)\n",
        "                    cola.append(nueva_ruta)\n",
        "\n",
        "        # Si no se encuentra ruta\n",
        "        return None\n",
        "\n",
        "# Función principal\n",
        "def main():\n",
        "    # Crear sistema de transporte\n",
        "    sistema = SistemaTransporte()\n",
        "\n",
        "    # Entradas del usuario\n",
        "    print(\"Bienvenido al sistema de rutas del transporte masivo en Bogotá.\")\n",
        "    inicio = input(\"Ingrese la estación de inicio: \")\n",
        "    destino = input(\"Ingrese la estación de destino: \")\n",
        "\n",
        "    # Buscar la mejor ruta\n",
        "    if inicio in sistema.grafo and destino in sistema.grafo:\n",
        "        ruta = sistema.buscar_ruta(inicio, destino)\n",
        "        if ruta:\n",
        "            print(f\"La mejor ruta de {inicio} a {destino} es:\")\n",
        "            print(\" -> \".join(ruta))\n",
        "        else:\n",
        "            print(f\"No se encontró una ruta entre {inicio} y {destino}.\")\n",
        "    else:\n",
        "        print(\"Alguna de las estaciones ingresadas no es válida.\")\n",
        "\n",
        "# Ejecutar\n",
        "if __name__ == \"__main__\":\n",
        "    main()\n"
      ]
    }
  ]
}