{
  "nbformat": 4,
  "nbformat_minor": 0,
  "metadata": {
    "colab": {
      "provenance": [],
      "authorship_tag": "ABX9TyNO/ExSF9GKY+dmbsrGfP+y",
      "include_colab_link": true
    },
    "kernelspec": {
      "name": "python3",
      "display_name": "Python 3"
    },
    "language_info": {
      "name": "python"
    }
  },
  "cells": [
    {
      "cell_type": "markdown",
      "metadata": {
        "id": "view-in-github",
        "colab_type": "text"
      },
      "source": [
        "<a href=\"https://colab.research.google.com/github/WarReach/InteligenciaArtificial/blob/main/Modelo_Supervisado.ipynb\" target=\"_parent\"><img src=\"https://colab.research.google.com/assets/colab-badge.svg\" alt=\"Open In Colab\"/></a>"
      ]
    },
    {
      "cell_type": "markdown",
      "source": [
        "**Dataset Sintetico**"
      ],
      "metadata": {
        "id": "PCxZRlaW9-hU"
      }
    },
    {
      "cell_type": "code",
      "source": [
        "import pandas as pd\n",
        "import random\n",
        "import numpy as np\n",
        "\n",
        "# Definir un conjunto más amplio de estaciones\n",
        "estaciones = [\n",
        "    'Portal Norte', 'Cardio Infantil', 'Mazuren', 'Suba', 'Portal 80', 'Quirigua',\n",
        "    'Universidades', 'Av. Chile', 'Chapinero', 'Centro Histórico', 'Portal Sur',\n",
        "    'Restrepo', 'Portal Américas', 'Banderas', 'Av. 68', 'Portal Tunal', 'Usme',\n",
        "    'San Mateo', 'Terreros', 'Portal El Dorado'\n",
        "]\n",
        "\n",
        "# Función para generar datos sintéticos\n",
        "def generar_datos(n):\n",
        "    datos = []\n",
        "    for _ in range(n):\n",
        "        origen = random.choice(estaciones)\n",
        "        destino = random.choice([e for e in estaciones if e != origen])\n",
        "        tiempo_estimado = random.randint(10, 90)  # Tiempo en minutos\n",
        "        distancia = random.uniform(2, 25)  # Distancia en km\n",
        "        dia = random.choice(['Lunes', 'Martes', 'Miércoles', 'Jueves', 'Viernes', 'Sábado', 'Domingo'])\n",
        "        hora = random.choice([\n",
        "            '06:00 AM', '07:00 AM', '08:00 AM', '09:00 AM', '10:00 AM',\n",
        "            '12:00 PM', '03:00 PM', '06:00 PM', '08:00 PM', '10:00 PM'\n",
        "        ])\n",
        "        trafico = random.choice(['Bajo', 'Moderado', 'Alto'])\n",
        "        pasajeros = random.randint(30, 300)  # Número de pasajeros\n",
        "        costo_pasaje = random.uniform(2.5, 4.0)  # Costo del pasaje en dólares (aproximación)\n",
        "\n",
        "        datos.append([origen, destino, tiempo_estimado, distancia, dia, hora, trafico, pasajeros, round(costo_pasaje, 2)])\n",
        "\n",
        "    return pd.DataFrame(datos, columns=[\n",
        "        'Origen', 'Destino', 'Tiempo_Estimado', 'Distancia', 'Dia', 'Hora', 'Tráfico', 'Num_Pasajeros', 'Costo_Pasaje'\n",
        "    ])\n",
        "\n",
        "# Generar un dataset con 5000 registros\n",
        "df_transporte_ampliado = generar_datos(5000)\n",
        "\n",
        "# Mostrar los primeros registros\n",
        "print(df_transporte_ampliado.head())\n",
        "\n",
        "# Guardar el dataset en un archivo CSV\n",
        "df_transporte_ampliado.to_csv('dataset_transporte_ampliado.csv', index=False)\n",
        "\n",
        "# Descargar el archivo para su almacenamientoy reuso\n",
        "try:\n",
        "    from google.colab import files\n",
        "    files.download('dataset_transporte_ampliado.csv')\n",
        "except ImportError:\n",
        "    print(\"La descarga automática está disponible solo en Google Colab.\")\n"
      ],
      "metadata": {
        "id": "UhN4sKvmY0KF",
        "colab": {
          "base_uri": "https://localhost:8080/",
          "height": 243
        },
        "outputId": "d5f455ea-fed8-46ad-ab8f-946b0b8588fc"
      },
      "execution_count": 1,
      "outputs": [
        {
          "output_type": "stream",
          "name": "stdout",
          "text": [
            "            Origen           Destino  Tiempo_Estimado  Distancia      Dia  \\\n",
            "0         Quirigua            Av. 68               75   7.836642    Lunes   \n",
            "1             Suba           Mazuren               63  17.583168   Martes   \n",
            "2  Cardio Infantil            Av. 68               67  20.380741   Martes   \n",
            "3     Portal Norte  Centro Histórico               68  10.546611    Lunes   \n",
            "4        Chapinero         Av. Chile               86   5.547894  Viernes   \n",
            "\n",
            "       Hora   Tráfico  Num_Pasajeros  Costo_Pasaje  \n",
            "0  10:00 AM  Moderado            227          3.54  \n",
            "1  08:00 PM  Moderado            207          3.00  \n",
            "2  06:00 AM  Moderado             93          2.61  \n",
            "3  07:00 AM      Bajo             55          2.71  \n",
            "4  06:00 AM  Moderado            213          3.36  \n"
          ]
        },
        {
          "output_type": "display_data",
          "data": {
            "text/plain": [
              "<IPython.core.display.Javascript object>"
            ],
            "application/javascript": [
              "\n",
              "    async function download(id, filename, size) {\n",
              "      if (!google.colab.kernel.accessAllowed) {\n",
              "        return;\n",
              "      }\n",
              "      const div = document.createElement('div');\n",
              "      const label = document.createElement('label');\n",
              "      label.textContent = `Downloading \"${filename}\": `;\n",
              "      div.appendChild(label);\n",
              "      const progress = document.createElement('progress');\n",
              "      progress.max = size;\n",
              "      div.appendChild(progress);\n",
              "      document.body.appendChild(div);\n",
              "\n",
              "      const buffers = [];\n",
              "      let downloaded = 0;\n",
              "\n",
              "      const channel = await google.colab.kernel.comms.open(id);\n",
              "      // Send a message to notify the kernel that we're ready.\n",
              "      channel.send({})\n",
              "\n",
              "      for await (const message of channel.messages) {\n",
              "        // Send a message to notify the kernel that we're ready.\n",
              "        channel.send({})\n",
              "        if (message.buffers) {\n",
              "          for (const buffer of message.buffers) {\n",
              "            buffers.push(buffer);\n",
              "            downloaded += buffer.byteLength;\n",
              "            progress.value = downloaded;\n",
              "          }\n",
              "        }\n",
              "      }\n",
              "      const blob = new Blob(buffers, {type: 'application/binary'});\n",
              "      const a = document.createElement('a');\n",
              "      a.href = window.URL.createObjectURL(blob);\n",
              "      a.download = filename;\n",
              "      div.appendChild(a);\n",
              "      a.click();\n",
              "      div.remove();\n",
              "    }\n",
              "  "
            ]
          },
          "metadata": {}
        },
        {
          "output_type": "display_data",
          "data": {
            "text/plain": [
              "<IPython.core.display.Javascript object>"
            ],
            "application/javascript": [
              "download(\"download_81c47a8e-89a6-4314-9fa5-feda943797c8\", \"dataset_transporte_ampliado.csv\", 376911)"
            ]
          },
          "metadata": {}
        }
      ]
    },
    {
      "cell_type": "markdown",
      "source": [
        "**Modelo Entrenado \"Regresion Lineal**"
      ],
      "metadata": {
        "id": "YzSu1jBj9F2f"
      }
    },
    {
      "cell_type": "code",
      "source": [
        "from sklearn.model_selection import train_test_split\n",
        "from sklearn.linear_model import LinearRegression\n",
        "from sklearn.metrics import mean_squared_error\n",
        "from sklearn.preprocessing import LabelEncoder\n",
        "\n",
        "# Convertir las variables categóricas en variables numéricas\n",
        "label_encoder = LabelEncoder()\n",
        "df_transporte_ampliado['Dia'] = label_encoder.fit_transform(df_transporte_ampliado['Dia'])\n",
        "df_transporte_ampliado['Hora'] = label_encoder.fit_transform(df_transporte_ampliado['Hora'])\n",
        "df_transporte_ampliado['Tráfico'] = label_encoder.fit_transform(df_transporte_ampliado['Tráfico'])\n",
        "\n",
        "# Seleccionar las características y la variable objetivo\n",
        "X = df_transporte_ampliado[['Distancia', 'Dia', 'Hora', 'Tráfico', 'Num_Pasajeros']]\n",
        "y = df_transporte_ampliado['Tiempo_Estimado']\n",
        "\n",
        "# Dividir el dataset en entrenamiento y prueba\n",
        "X_train, X_test, y_train, y_test = train_test_split(X, y, test_size=0.2, random_state=42)\n",
        "\n",
        "# Crear y entrenar el modelo de regresión lineal\n",
        "modelo = LinearRegression()\n",
        "modelo.fit(X_train, y_train)\n",
        "\n",
        "# Hacer predicciones\n",
        "y_pred = modelo.predict(X_test)\n",
        "\n",
        "# Evaluar el modelo\n",
        "rmse = np.sqrt(mean_squared_error(y_test, y_pred))\n",
        "print(f'Error cuadrático medio (RMSE): {rmse}')\n",
        "\n",
        "# Mostrar las predicciones vs reales\n",
        "comparacion = pd.DataFrame({'Real': y_test.values, 'Predicho': y_pred})\n",
        "print(comparacion.head())\n"
      ],
      "metadata": {
        "id": "i8FbMFvM8z1a",
        "colab": {
          "base_uri": "https://localhost:8080/"
        },
        "outputId": "b511daed-659b-49ef-ab19-0a5f6039c012"
      },
      "execution_count": 3,
      "outputs": [
        {
          "output_type": "stream",
          "name": "stdout",
          "text": [
            "Error cuadrático medio (RMSE): 23.52521875822651\n",
            "   Real   Predicho\n",
            "0    23  50.908835\n",
            "1    21  49.792642\n",
            "2    15  51.040333\n",
            "3    24  49.390434\n",
            "4    62  51.082695\n"
          ]
        }
      ]
    }
  ]
}